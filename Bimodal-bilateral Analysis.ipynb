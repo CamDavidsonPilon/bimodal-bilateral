{
 "metadata": {
  "name": "Bimodal-bilateral Analysis"
 },
 "nbformat": 3,
 "nbformat_minor": 0,
 "worksheets": [
  {
   "cells": [
    {
     "cell_type": "markdown",
     "metadata": {},
     "source": [
      "## Summary of Proposal\n",
      "\n",
      "Bilateral cochlear implantation is considered the standard of care treatment option for children with severe-to-profound sensorineural hearing loss. Families with children undergoing cochlear implantation with asymmetric hearing loss and/or less severe degrees of hearing loss, however, are often counseled to consider a single cochlear implant to be used in combination with a hearing aid on the better hearing ear. This recommendation is made on the basis of research conducted with adult cochlear implant recipients regarding the outcomes with bimodal (cochlear implant + contralateral hearing aid) listening (e.g., Dorman et al., 2008; Gifford et al., 2007). A cochlear implant is expected to provide a child with audibility in the range of normal or near-normal hearing for the range of speech frequencies from 250 through 6000 Hz. The audibility provided by the hearing aid is often much poorer than that provided by a cochlear implant. Thus it is not known whether or not bimodal listening may be a special case of \u201cminimal\u201d hearing loss for children who are acquiring language through the use of their auditory prostheses. \n",
      "\n",
      "There is a plethora of literature on the negative academic and psychosocial effects of unilateral or minimal bilateral hearing loss on children (e.g., Bess and Tharpe, 1986; Oyler et al., 1988; Tharpe and Bess, 1991; Tharpe, 2008). This research has focused on children with acoustic hearing only; however, there is no reason to believe that children with electric and acoustic hearing\u2014two modes providing different and often asymmetric levels of audibility and speech perception\u2014might not also be affected negatively in terms of academics and psychosocial outcomes as compared to children with bilateral cochlear implants who have more equivalent audibility and speech perception abilities across ears. \n",
      "\n",
      "Nittrouer and Chapman (2009) examined expressive and receptive language capabilities of children with bimodal hearing and bilateral cochlear implants. Using standardized measures of expressive and receptive language they found no differences across the groups; however, these measurement tools are known to be insensitive to the effects of unilateral hearing loss (Klee & Davis-Dansky, 1986). Thus, we conducted a pilot data collection project with children enrolled in the Mama Lere Hearing School using a cross-sectional model of bimodal and bilateral children using norm-referenced assessments (Arizonia, EOWPVT, ROWPVT, CELF-P) to gain a more comprehensive understanding of expressive and receptive language skills. \n",
      "\n",
      "A study completed at Vanderbilt with 22 participants from the Mama Lere Hearing School were recruited, 11 biomodal and 11 bilateral hearing. The mean age was 54 months with the range from 48 months to 60 months. The mean Bimodal age was 55 months and mean Bilateral age was 53 months. Using a linear regression model (SPSS Statistical Software), we found that children with bilateral cochlear implants have better articulation, expressive and receptive vocabulary, and expressive and receptive language. These findings contradict Nittrouer et al studies. \n",
      "\n",
      "To further study this critical issue we have partner with OPTION Schools, Inc and the LSL-DR Investigational Team to review outcome data of children with bilateral cochlear implants and bimodal hearing who are enrolled in auditory-oral schools. Tamala Bradham is the Principal Investigator for this project at Vanderbilt and OPTION Schools. There are currently over 2,700 students in the international data repository called Listening and Spoken Language - Data Repository (LSL-DR). Data presented will include demographics, articulation, vocabulary and language scores as well as functional outcomes. These findings may ultimately impact counseling and treatment options for children and their families pursuing cochlear implantation. \n",
      "\n",
      "Learner Outcomes\n",
      "\n",
      "1. With data from the LSL-DR, we are using Bayesian linear mixed effects model to estimate the influence of demographics on test scores\n",
      "2. Preliminary pilot data suggests that children with bilateral cochlear implants score higher on standardized measures than children with bimodal hearing\n",
      "3. This data will be used when counseling patients on when and if to implant the second ear\n"
     ]
    },
    {
     "cell_type": "markdown",
     "metadata": {},
     "source": [
      "## Notes\n",
      "\n",
      "Variable:\n",
      " \n",
      "* Type of hearing loss\n",
      "* Degree of Hearing loss\n",
      "* Audiometric profiles (??? \u2013 this is not a variable in LSL-DR and would have to be created based on the thresholds entered)\n",
      "* Type of technology right ear\n",
      "* Type of technology left ear\n",
      "* Age of ID of hearing loss\n",
      "* Age of intervention (new variable \u2013 may not have enough data)\n",
      "* Age of enrollment in OPTION School\n",
      "* Primary Language Spoken in the Home\n",
      "* Maternal level of education\n",
      "* Impact on learning rating (subjective \u2013 none, mild, moderate, severe)\n",
      "* Family involvement rating\n",
      "* Age of first CI\n",
      "* Age of second CI\n",
      "* Device type (AB, Med El, Cochlear) \u2013 descriptive would not compare companies\n",
      " \n",
      "Age at time and Standard Scores of testing for vocab, artic, language"
     ]
    },
    {
     "cell_type": "code",
     "collapsed": false,
     "input": [],
     "language": "python",
     "metadata": {},
     "outputs": []
    }
   ],
   "metadata": {}
  }
 ]
}